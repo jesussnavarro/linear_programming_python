{
 "cells": [
  {
   "cell_type": "code",
   "execution_count": 1,
   "id": "2d0d39d6",
   "metadata": {},
   "outputs": [],
   "source": [
    "#############################\n",
    "# Example Linear programming in python\n",
    "# By Ali Jesus Navarro\n",
    "#############################\n",
    "##note : you need to install  Cplex, if you do not have cplex you will have this alert: \n",
    "#''Cannot solve model: no CPLEX runtime found.''"
   ]
  },
  {
   "cell_type": "markdown",
   "id": "7b093a56",
   "metadata": {},
   "source": [
    "# Import Libraries"
   ]
  },
  {
   "cell_type": "code",
   "execution_count": 2,
   "id": "10a90fe1",
   "metadata": {},
   "outputs": [],
   "source": [
    "#Libraries\n",
    "import numpy as np\n",
    "import pandas as pd\n",
    "import matplotlib.pyplot as plt\n",
    "from docplex.mp.model import Model"
   ]
  },
  {
   "cell_type": "code",
   "execution_count": null,
   "id": "d08ebcd9",
   "metadata": {},
   "outputs": [],
   "source": []
  },
  {
   "cell_type": "markdown",
   "id": "382b02e2",
   "metadata": {},
   "source": [
    "# Linear programming in python \n",
    "\n",
    "#1 First time I talk about the problem to solve \n",
    "#2 second I'll be solve the problem with docplex library "
   ]
  },
  {
   "cell_type": "markdown",
   "id": "bd39e757",
   "metadata": {},
   "source": [
    "-------------------------------------------------------------------------------------------------------------------------------\n",
    "# The Problmen\n",
    "\n",
    "A company that wants to produce doors and windows asks how many of each it should produce. There are the following elements, the doors are sold at a price of 300 dollers and the windows for $450. There are the followings constraints : The store need 200 doors for contranct and 500 windows for contracts. The factory has 2999.5 hours of production time. the time of production for each other door and windows is 1.5h per door and 1h per windows.\n",
    "\n",
    "In this problem we want to know how to maximize the sales with a min sales per store and one restriction in the production time.\n",
    "\n",
    "\n",
    "![](picturesolve.jpg)\n",
    "\n",
    "\n",
    "Maximize the sales \n",
    "\n",
    "Z = D(production number)*300 + W(production number)*450\n",
    "\n",
    "        SUBJET TO \n",
    "        \n",
    "   constrain 1 /    D(production number) => 200\n",
    "   \n",
    "   constrain 2 /    W(production number) => 500\n",
    "   \n",
    "   constrain 3 /    D*1.5h + W*1 <= 2999.5h\n",
    "   \n",
    "   \n",
    "\n"
   ]
  },
  {
   "cell_type": "markdown",
   "id": "d4a89c5c",
   "metadata": {},
   "source": [
    "# Solution\n",
    "\n"
   ]
  },
  {
   "cell_type": "code",
   "execution_count": 4,
   "id": "d4eb1729",
   "metadata": {},
   "outputs": [],
   "source": [
    "m = Model(name='Doors and Windows Production')"
   ]
  },
  {
   "cell_type": "markdown",
   "id": "ae1b6d67",
   "metadata": {},
   "source": [
    "### Variables"
   ]
  },
  {
   "cell_type": "code",
   "execution_count": 5,
   "id": "128a7717",
   "metadata": {},
   "outputs": [],
   "source": [
    "# Doors and Windows Production\n",
    "doors_production = m.continuous_var(name='Doors production')\n",
    "windows_production = m.continuous_var(name='Windows production')"
   ]
  },
  {
   "cell_type": "code",
   "execution_count": 6,
   "id": "11b0a2df",
   "metadata": {},
   "outputs": [],
   "source": [
    "# Production time constants\n",
    "door_time = 1.5\n",
    "window_time = 1"
   ]
  },
  {
   "cell_type": "code",
   "execution_count": 7,
   "id": "7deef1ef",
   "metadata": {},
   "outputs": [],
   "source": [
    "# price of doors and windows\n",
    "door_price = 300\n",
    "window_price = 450"
   ]
  },
  {
   "cell_type": "markdown",
   "id": "505c7a02",
   "metadata": {},
   "source": [
    "### Constraints"
   ]
  },
  {
   "cell_type": "code",
   "execution_count": 8,
   "id": "3ae82ab9",
   "metadata": {},
   "outputs": [],
   "source": [
    "# min pruduct\n",
    "doors_constraint = m.add_constraint(doors_production >=200)\n",
    "windows_constraint = m.add_constraint(windows_production >=500)\n"
   ]
  },
  {
   "cell_type": "code",
   "execution_count": 9,
   "id": "256951c5",
   "metadata": {},
   "outputs": [],
   "source": [
    "# production Constraint\n",
    "total_production_constraint = m.add_constraint(m.sum([doors_production*door_time,windows_production*window_time]) <=2999.5)"
   ]
  },
  {
   "cell_type": "markdown",
   "id": "3fab3a14",
   "metadata": {},
   "source": [
    "### Goals\n"
   ]
  },
  {
   "cell_type": "code",
   "execution_count": 10,
   "id": "a2d0fabb",
   "metadata": {},
   "outputs": [],
   "source": [
    "m.maximize(doors_production*door_price + windows_production*window_price)"
   ]
  },
  {
   "cell_type": "code",
   "execution_count": 11,
   "id": "f01e7e72",
   "metadata": {},
   "outputs": [],
   "source": [
    "sol = m.solve()"
   ]
  },
  {
   "cell_type": "code",
   "execution_count": 12,
   "id": "e7d52aee",
   "metadata": {},
   "outputs": [
    {
     "name": "stdout",
     "output_type": "stream",
     "text": [
      "solution for: Doors and Windows Production\n",
      "objective: 1274775.000\n",
      "Doors production = 200.000\n",
      "Windows production = 2699.500\n"
     ]
    }
   ],
   "source": [
    "sol.display()"
   ]
  },
  {
   "cell_type": "code",
   "execution_count": null,
   "id": "01527f06",
   "metadata": {},
   "outputs": [],
   "source": []
  }
 ],
 "metadata": {
  "kernelspec": {
   "display_name": "Python 3 (ipykernel)",
   "language": "python",
   "name": "python3"
  },
  "language_info": {
   "codemirror_mode": {
    "name": "ipython",
    "version": 3
   },
   "file_extension": ".py",
   "mimetype": "text/x-python",
   "name": "python",
   "nbconvert_exporter": "python",
   "pygments_lexer": "ipython3",
   "version": "3.9.12"
  }
 },
 "nbformat": 4,
 "nbformat_minor": 5
}
